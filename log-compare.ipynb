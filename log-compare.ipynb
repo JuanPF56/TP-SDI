{
 "cells": [
  {
   "cell_type": "markdown",
   "id": "73e6ada8",
   "metadata": {},
   "source": [
    "## Dump the join logs first then run the cells, changing 'credits' and 'ratings' accordingly.\n",
    "\n",
    "## How to dump all the logs:\n",
    "\n",
    "Run in the terminal:\n",
    "```bash\n",
    "for i in $(seq 1 5); do docker logs join_credits_$i >& cred$i.log; docker logs join_ratings_$i >& rat$i.log; done\n",
    "```\n",
    "\n",
    "Then run the cells below to read the logs and create the DataFrames."
   ]
  },
  {
   "cell_type": "code",
   "execution_count": 27,
   "id": "436b6e7f",
   "metadata": {},
   "outputs": [
    {
     "name": "stdout",
     "output_type": "stream",
     "text": [
      "Found 5 log files matching pattern 'rat*.log'.\n",
      "Processing file: rat1.log\n",
      "Processing file: rat2.log\n",
      "Processing file: rat3.log\n",
      "Processing file: rat4.log\n",
      "Processing file: rat5.log\n"
     ]
    }
   ],
   "source": [
    "import re\n",
    "import pandas as pd\n",
    "from pathlib import Path\n",
    "\n",
    "join = 'ratings'\n",
    "\n",
    "if join == 'credits':\n",
    "    file_prefix = 'cred'\n",
    "    log = '[Join-Credits]'\n",
    "else:\n",
    "    file_prefix = 'rat'\n",
    "    log = '[Join-Ratings]'\n",
    "\n",
    "\n",
    "# Define the regex to extract the required fields\n",
    "pattern = re.compile(\n",
    "    r'Message ID: (\\d+) .*? for client ([a-f0-9-]+) has joined data of length (\\d+)\\.', re.IGNORECASE\n",
    ")\n",
    "\n",
    "# Function to parse one file and extract relevant data\n",
    "def extract_joined_data(filepath):\n",
    "    data = []\n",
    "    node_match = re.search(rf'{file_prefix}(\\d+)\\.log$', filepath.name)\n",
    "    if not node_match:\n",
    "        print(f\"Skipping file {filepath} as it does not match expected pattern.\")\n",
    "        return data\n",
    "    node = int(node_match.group(1)) if node_match else None\n",
    "\n",
    "    with open(filepath, 'r', encoding='utf-8', errors='ignore') as f:\n",
    "        print(f\"Processing file: {filepath}\")\n",
    "        for line in f:\n",
    "            if log in line:\n",
    "                match = pattern.search(line)\n",
    "                if match:\n",
    "                    message_id = int(match.group(1))\n",
    "                    client_id = match.group(2)\n",
    "                    joined_length = int(match.group(3))\n",
    "\n",
    "                    # Also extract the total original length from earlier in the line\n",
    "                    length_match = re.search(r'length (\\d+)', line)\n",
    "                    original_length = int(length_match.group(1)) if length_match else None\n",
    "\n",
    "                    data.append({\n",
    "                        'node': node,\n",
    "                        'message_id': message_id,\n",
    "                        'client_id': client_id,\n",
    "                        'original_length': original_length,\n",
    "                        'joined_length': joined_length,\n",
    "                    })\n",
    "    return data\n",
    "\n",
    "# Load all relevant log files\n",
    "log_files = list(Path('.').glob(f'{file_prefix}*.log'))\n",
    "\n",
    "print(f\"Found {len(log_files)} log files matching pattern '{file_prefix}*.log'.\")\n",
    "\n",
    "# Extract and combine all the data\n",
    "all_data = []\n",
    "for log_file in log_files:\n",
    "    all_data.extend(extract_joined_data(log_file))\n",
    "\n",
    "# Convert to DataFrame\n",
    "df = pd.DataFrame(all_data)\n"
   ]
  },
  {
   "cell_type": "code",
   "execution_count": 32,
   "id": "ea0d26c2",
   "metadata": {},
   "outputs": [
    {
     "data": {
      "application/vnd.microsoft.datawrangler.viewer.v0+json": {
       "columns": [
        {
         "name": "index",
         "rawType": "int64",
         "type": "integer"
        },
        {
         "name": "node",
         "rawType": "int64",
         "type": "integer"
        },
        {
         "name": "message_id",
         "rawType": "int64",
         "type": "integer"
        },
        {
         "name": "client_id",
         "rawType": "object",
         "type": "string"
        },
        {
         "name": "original_length",
         "rawType": "int64",
         "type": "integer"
        },
        {
         "name": "joined_length",
         "rawType": "int64",
         "type": "integer"
        },
        {
         "name": "msg_key",
         "rawType": "object",
         "type": "unknown"
        }
       ],
       "ref": "b73d53a9-b557-4efd-9f9b-09b2d9681ea3",
       "rows": [
        [
         "0",
         "1",
         "216",
         "0721807e-e9e3-42f3-8aad-74e7da777190",
         "41011",
         "72",
         "(216, 41011, 72)"
        ],
        [
         "1",
         "1",
         "217",
         "0721807e-e9e3-42f3-8aad-74e7da777190",
         "39739",
         "84",
         "(217, 39739, 84)"
        ],
        [
         "2",
         "1",
         "219",
         "0721807e-e9e3-42f3-8aad-74e7da777190",
         "39558",
         "74",
         "(219, 39558, 74)"
        ],
        [
         "3",
         "1",
         "220",
         "0721807e-e9e3-42f3-8aad-74e7da777190",
         "39320",
         "79",
         "(220, 39320, 79)"
        ],
        [
         "4",
         "1",
         "218",
         "0721807e-e9e3-42f3-8aad-74e7da777190",
         "40003",
         "101",
         "(218, 40003, 101)"
        ],
        [
         "5",
         "1",
         "222",
         "0721807e-e9e3-42f3-8aad-74e7da777190",
         "40712",
         "73",
         "(222, 40712, 73)"
        ],
        [
         "6",
         "1",
         "216",
         "82b5bbe5-b566-44fa-9e5a-735d1581bd73",
         "41011",
         "72",
         "(216, 41011, 72)"
        ],
        [
         "7",
         "1",
         "215",
         "0721807e-e9e3-42f3-8aad-74e7da777190",
         "42962",
         "85",
         "(215, 42962, 85)"
        ],
        [
         "8",
         "1",
         "221",
         "0721807e-e9e3-42f3-8aad-74e7da777190",
         "40144",
         "81",
         "(221, 40144, 81)"
        ],
        [
         "9",
         "1",
         "223",
         "0721807e-e9e3-42f3-8aad-74e7da777190",
         "41056",
         "58",
         "(223, 41056, 58)"
        ],
        [
         "10",
         "1",
         "215",
         "82b5bbe5-b566-44fa-9e5a-735d1581bd73",
         "42962",
         "85",
         "(215, 42962, 85)"
        ],
        [
         "11",
         "1",
         "217",
         "82b5bbe5-b566-44fa-9e5a-735d1581bd73",
         "39739",
         "84",
         "(217, 39739, 84)"
        ],
        [
         "12",
         "1",
         "224",
         "0721807e-e9e3-42f3-8aad-74e7da777190",
         "37694",
         "68",
         "(224, 37694, 68)"
        ],
        [
         "13",
         "1",
         "218",
         "82b5bbe5-b566-44fa-9e5a-735d1581bd73",
         "40003",
         "101",
         "(218, 40003, 101)"
        ],
        [
         "14",
         "1",
         "225",
         "0721807e-e9e3-42f3-8aad-74e7da777190",
         "40019",
         "94",
         "(225, 40019, 94)"
        ],
        [
         "15",
         "1",
         "219",
         "82b5bbe5-b566-44fa-9e5a-735d1581bd73",
         "39558",
         "74",
         "(219, 39558, 74)"
        ],
        [
         "16",
         "1",
         "226",
         "0721807e-e9e3-42f3-8aad-74e7da777190",
         "39511",
         "70",
         "(226, 39511, 70)"
        ],
        [
         "17",
         "1",
         "220",
         "82b5bbe5-b566-44fa-9e5a-735d1581bd73",
         "39320",
         "79",
         "(220, 39320, 79)"
        ],
        [
         "18",
         "1",
         "227",
         "0721807e-e9e3-42f3-8aad-74e7da777190",
         "39239",
         "76",
         "(227, 39239, 76)"
        ],
        [
         "19",
         "1",
         "221",
         "82b5bbe5-b566-44fa-9e5a-735d1581bd73",
         "40144",
         "81",
         "(221, 40144, 81)"
        ],
        [
         "20",
         "1",
         "228",
         "0721807e-e9e3-42f3-8aad-74e7da777190",
         "39724",
         "74",
         "(228, 39724, 74)"
        ],
        [
         "21",
         "1",
         "222",
         "82b5bbe5-b566-44fa-9e5a-735d1581bd73",
         "40712",
         "73",
         "(222, 40712, 73)"
        ],
        [
         "22",
         "1",
         "229",
         "0721807e-e9e3-42f3-8aad-74e7da777190",
         "40063",
         "73",
         "(229, 40063, 73)"
        ],
        [
         "23",
         "1",
         "223",
         "82b5bbe5-b566-44fa-9e5a-735d1581bd73",
         "41056",
         "58",
         "(223, 41056, 58)"
        ],
        [
         "24",
         "1",
         "230",
         "0721807e-e9e3-42f3-8aad-74e7da777190",
         "39970",
         "70",
         "(230, 39970, 70)"
        ],
        [
         "25",
         "1",
         "224",
         "82b5bbe5-b566-44fa-9e5a-735d1581bd73",
         "37694",
         "68",
         "(224, 37694, 68)"
        ],
        [
         "26",
         "1",
         "231",
         "0721807e-e9e3-42f3-8aad-74e7da777190",
         "39765",
         "84",
         "(231, 39765, 84)"
        ],
        [
         "27",
         "1",
         "225",
         "82b5bbe5-b566-44fa-9e5a-735d1581bd73",
         "40019",
         "94",
         "(225, 40019, 94)"
        ],
        [
         "28",
         "1",
         "232",
         "0721807e-e9e3-42f3-8aad-74e7da777190",
         "40675",
         "84",
         "(232, 40675, 84)"
        ],
        [
         "29",
         "1",
         "226",
         "82b5bbe5-b566-44fa-9e5a-735d1581bd73",
         "39511",
         "70",
         "(226, 39511, 70)"
        ],
        [
         "30",
         "1",
         "233",
         "0721807e-e9e3-42f3-8aad-74e7da777190",
         "40733",
         "74",
         "(233, 40733, 74)"
        ],
        [
         "31",
         "1",
         "227",
         "82b5bbe5-b566-44fa-9e5a-735d1581bd73",
         "39239",
         "76",
         "(227, 39239, 76)"
        ],
        [
         "32",
         "1",
         "234",
         "0721807e-e9e3-42f3-8aad-74e7da777190",
         "40249",
         "70",
         "(234, 40249, 70)"
        ],
        [
         "33",
         "1",
         "228",
         "82b5bbe5-b566-44fa-9e5a-735d1581bd73",
         "39724",
         "74",
         "(228, 39724, 74)"
        ],
        [
         "34",
         "1",
         "235",
         "0721807e-e9e3-42f3-8aad-74e7da777190",
         "39226",
         "88",
         "(235, 39226, 88)"
        ],
        [
         "35",
         "1",
         "229",
         "82b5bbe5-b566-44fa-9e5a-735d1581bd73",
         "40063",
         "73",
         "(229, 40063, 73)"
        ],
        [
         "36",
         "1",
         "236",
         "0721807e-e9e3-42f3-8aad-74e7da777190",
         "40513",
         "81",
         "(236, 40513, 81)"
        ],
        [
         "37",
         "1",
         "230",
         "82b5bbe5-b566-44fa-9e5a-735d1581bd73",
         "39970",
         "70",
         "(230, 39970, 70)"
        ],
        [
         "38",
         "1",
         "237",
         "0721807e-e9e3-42f3-8aad-74e7da777190",
         "39811",
         "85",
         "(237, 39811, 85)"
        ],
        [
         "39",
         "1",
         "231",
         "82b5bbe5-b566-44fa-9e5a-735d1581bd73",
         "39765",
         "84",
         "(231, 39765, 84)"
        ],
        [
         "40",
         "1",
         "238",
         "0721807e-e9e3-42f3-8aad-74e7da777190",
         "37735",
         "78",
         "(238, 37735, 78)"
        ],
        [
         "41",
         "1",
         "232",
         "82b5bbe5-b566-44fa-9e5a-735d1581bd73",
         "40675",
         "84",
         "(232, 40675, 84)"
        ],
        [
         "42",
         "1",
         "239",
         "0721807e-e9e3-42f3-8aad-74e7da777190",
         "38917",
         "72",
         "(239, 38917, 72)"
        ],
        [
         "43",
         "1",
         "233",
         "82b5bbe5-b566-44fa-9e5a-735d1581bd73",
         "40733",
         "74",
         "(233, 40733, 74)"
        ],
        [
         "44",
         "1",
         "240",
         "0721807e-e9e3-42f3-8aad-74e7da777190",
         "38829",
         "71",
         "(240, 38829, 71)"
        ],
        [
         "45",
         "1",
         "234",
         "82b5bbe5-b566-44fa-9e5a-735d1581bd73",
         "40249",
         "70",
         "(234, 40249, 70)"
        ],
        [
         "46",
         "1",
         "241",
         "0721807e-e9e3-42f3-8aad-74e7da777190",
         "38322",
         "71",
         "(241, 38322, 71)"
        ],
        [
         "47",
         "1",
         "235",
         "82b5bbe5-b566-44fa-9e5a-735d1581bd73",
         "39226",
         "88",
         "(235, 39226, 88)"
        ],
        [
         "48",
         "1",
         "242",
         "0721807e-e9e3-42f3-8aad-74e7da777190",
         "38359",
         "69",
         "(242, 38359, 69)"
        ],
        [
         "49",
         "1",
         "236",
         "82b5bbe5-b566-44fa-9e5a-735d1581bd73",
         "40513",
         "81",
         "(236, 40513, 81)"
        ]
       ],
       "shape": {
        "columns": 6,
        "rows": 1564
       }
      },
      "text/html": [
       "<div>\n",
       "<style scoped>\n",
       "    .dataframe tbody tr th:only-of-type {\n",
       "        vertical-align: middle;\n",
       "    }\n",
       "\n",
       "    .dataframe tbody tr th {\n",
       "        vertical-align: top;\n",
       "    }\n",
       "\n",
       "    .dataframe thead th {\n",
       "        text-align: right;\n",
       "    }\n",
       "</style>\n",
       "<table border=\"1\" class=\"dataframe\">\n",
       "  <thead>\n",
       "    <tr style=\"text-align: right;\">\n",
       "      <th></th>\n",
       "      <th>node</th>\n",
       "      <th>message_id</th>\n",
       "      <th>client_id</th>\n",
       "      <th>original_length</th>\n",
       "      <th>joined_length</th>\n",
       "      <th>msg_key</th>\n",
       "    </tr>\n",
       "  </thead>\n",
       "  <tbody>\n",
       "    <tr>\n",
       "      <th>0</th>\n",
       "      <td>1</td>\n",
       "      <td>216</td>\n",
       "      <td>0721807e-e9e3-42f3-8aad-74e7da777190</td>\n",
       "      <td>41011</td>\n",
       "      <td>72</td>\n",
       "      <td>(216, 41011, 72)</td>\n",
       "    </tr>\n",
       "    <tr>\n",
       "      <th>1</th>\n",
       "      <td>1</td>\n",
       "      <td>217</td>\n",
       "      <td>0721807e-e9e3-42f3-8aad-74e7da777190</td>\n",
       "      <td>39739</td>\n",
       "      <td>84</td>\n",
       "      <td>(217, 39739, 84)</td>\n",
       "    </tr>\n",
       "    <tr>\n",
       "      <th>2</th>\n",
       "      <td>1</td>\n",
       "      <td>219</td>\n",
       "      <td>0721807e-e9e3-42f3-8aad-74e7da777190</td>\n",
       "      <td>39558</td>\n",
       "      <td>74</td>\n",
       "      <td>(219, 39558, 74)</td>\n",
       "    </tr>\n",
       "    <tr>\n",
       "      <th>3</th>\n",
       "      <td>1</td>\n",
       "      <td>220</td>\n",
       "      <td>0721807e-e9e3-42f3-8aad-74e7da777190</td>\n",
       "      <td>39320</td>\n",
       "      <td>79</td>\n",
       "      <td>(220, 39320, 79)</td>\n",
       "    </tr>\n",
       "    <tr>\n",
       "      <th>4</th>\n",
       "      <td>1</td>\n",
       "      <td>218</td>\n",
       "      <td>0721807e-e9e3-42f3-8aad-74e7da777190</td>\n",
       "      <td>40003</td>\n",
       "      <td>101</td>\n",
       "      <td>(218, 40003, 101)</td>\n",
       "    </tr>\n",
       "    <tr>\n",
       "      <th>...</th>\n",
       "      <td>...</td>\n",
       "      <td>...</td>\n",
       "      <td>...</td>\n",
       "      <td>...</td>\n",
       "      <td>...</td>\n",
       "      <td>...</td>\n",
       "    </tr>\n",
       "    <tr>\n",
       "      <th>1559</th>\n",
       "      <td>2</td>\n",
       "      <td>858</td>\n",
       "      <td>82b5bbe5-b566-44fa-9e5a-735d1581bd73</td>\n",
       "      <td>3349</td>\n",
       "      <td>1</td>\n",
       "      <td>(858, 3349, 1)</td>\n",
       "    </tr>\n",
       "    <tr>\n",
       "      <th>1560</th>\n",
       "      <td>2</td>\n",
       "      <td>865</td>\n",
       "      <td>0721807e-e9e3-42f3-8aad-74e7da777190</td>\n",
       "      <td>3757</td>\n",
       "      <td>1</td>\n",
       "      <td>(865, 3757, 1)</td>\n",
       "    </tr>\n",
       "    <tr>\n",
       "      <th>1561</th>\n",
       "      <td>2</td>\n",
       "      <td>866</td>\n",
       "      <td>0721807e-e9e3-42f3-8aad-74e7da777190</td>\n",
       "      <td>2700</td>\n",
       "      <td>1</td>\n",
       "      <td>(866, 2700, 1)</td>\n",
       "    </tr>\n",
       "    <tr>\n",
       "      <th>1562</th>\n",
       "      <td>2</td>\n",
       "      <td>865</td>\n",
       "      <td>82b5bbe5-b566-44fa-9e5a-735d1581bd73</td>\n",
       "      <td>3757</td>\n",
       "      <td>1</td>\n",
       "      <td>(865, 3757, 1)</td>\n",
       "    </tr>\n",
       "    <tr>\n",
       "      <th>1563</th>\n",
       "      <td>2</td>\n",
       "      <td>866</td>\n",
       "      <td>82b5bbe5-b566-44fa-9e5a-735d1581bd73</td>\n",
       "      <td>2700</td>\n",
       "      <td>1</td>\n",
       "      <td>(866, 2700, 1)</td>\n",
       "    </tr>\n",
       "  </tbody>\n",
       "</table>\n",
       "<p>1564 rows × 6 columns</p>\n",
       "</div>"
      ],
      "text/plain": [
       "      node  message_id                             client_id  original_length  \\\n",
       "0        1         216  0721807e-e9e3-42f3-8aad-74e7da777190            41011   \n",
       "1        1         217  0721807e-e9e3-42f3-8aad-74e7da777190            39739   \n",
       "2        1         219  0721807e-e9e3-42f3-8aad-74e7da777190            39558   \n",
       "3        1         220  0721807e-e9e3-42f3-8aad-74e7da777190            39320   \n",
       "4        1         218  0721807e-e9e3-42f3-8aad-74e7da777190            40003   \n",
       "...    ...         ...                                   ...              ...   \n",
       "1559     2         858  82b5bbe5-b566-44fa-9e5a-735d1581bd73             3349   \n",
       "1560     2         865  0721807e-e9e3-42f3-8aad-74e7da777190             3757   \n",
       "1561     2         866  0721807e-e9e3-42f3-8aad-74e7da777190             2700   \n",
       "1562     2         865  82b5bbe5-b566-44fa-9e5a-735d1581bd73             3757   \n",
       "1563     2         866  82b5bbe5-b566-44fa-9e5a-735d1581bd73             2700   \n",
       "\n",
       "      joined_length            msg_key  \n",
       "0                72   (216, 41011, 72)  \n",
       "1                84   (217, 39739, 84)  \n",
       "2                74   (219, 39558, 74)  \n",
       "3                79   (220, 39320, 79)  \n",
       "4               101  (218, 40003, 101)  \n",
       "...             ...                ...  \n",
       "1559              1     (858, 3349, 1)  \n",
       "1560              1     (865, 3757, 1)  \n",
       "1561              1     (866, 2700, 1)  \n",
       "1562              1     (865, 3757, 1)  \n",
       "1563              1     (866, 2700, 1)  \n",
       "\n",
       "[1564 rows x 6 columns]"
      ]
     },
     "execution_count": 32,
     "metadata": {},
     "output_type": "execute_result"
    }
   ],
   "source": [
    "df"
   ]
  },
  {
   "cell_type": "code",
   "execution_count": 31,
   "id": "6163f468",
   "metadata": {},
   "outputs": [
    {
     "name": "stdout",
     "output_type": "stream",
     "text": [
      "⚠️ 0 nodes where clients saw different message data:\n"
     ]
    },
    {
     "data": {
      "application/vnd.microsoft.datawrangler.viewer.v0+json": {
       "columns": [
        {
         "name": "node",
         "rawType": "int64",
         "type": "integer"
        },
        {
         "name": "0721807e-e9e3-42f3-8aad-74e7da777190",
         "rawType": "object",
         "type": "string"
        },
        {
         "name": "82b5bbe5-b566-44fa-9e5a-735d1581bd73",
         "rawType": "object",
         "type": "string"
        },
        {
         "name": "all_clients_equal",
         "rawType": "bool",
         "type": "boolean"
        }
       ],
       "ref": "dff87e54-f250-469b-9d56-77e9ad8fa2b5",
       "rows": [],
       "shape": {
        "columns": 3,
        "rows": 0
       }
      },
      "text/html": [
       "<div>\n",
       "<style scoped>\n",
       "    .dataframe tbody tr th:only-of-type {\n",
       "        vertical-align: middle;\n",
       "    }\n",
       "\n",
       "    .dataframe tbody tr th {\n",
       "        vertical-align: top;\n",
       "    }\n",
       "\n",
       "    .dataframe thead th {\n",
       "        text-align: right;\n",
       "    }\n",
       "</style>\n",
       "<table border=\"1\" class=\"dataframe\">\n",
       "  <thead>\n",
       "    <tr style=\"text-align: right;\">\n",
       "      <th>client_id</th>\n",
       "      <th>0721807e-e9e3-42f3-8aad-74e7da777190</th>\n",
       "      <th>82b5bbe5-b566-44fa-9e5a-735d1581bd73</th>\n",
       "      <th>all_clients_equal</th>\n",
       "    </tr>\n",
       "    <tr>\n",
       "      <th>node</th>\n",
       "      <th></th>\n",
       "      <th></th>\n",
       "      <th></th>\n",
       "    </tr>\n",
       "  </thead>\n",
       "  <tbody>\n",
       "  </tbody>\n",
       "</table>\n",
       "</div>"
      ],
      "text/plain": [
       "Empty DataFrame\n",
       "Columns: [0721807e-e9e3-42f3-8aad-74e7da777190, 82b5bbe5-b566-44fa-9e5a-735d1581bd73, all_clients_equal]\n",
       "Index: []"
      ]
     },
     "execution_count": 31,
     "metadata": {},
     "output_type": "execute_result"
    }
   ],
   "source": [
    "import pandas as pd\n",
    "\n",
    "# Assumes `df` exists with: client_id, message_id, original_length, joined_length, node\n",
    "\n",
    "# Step 1: Create a unique key for comparison\n",
    "df['msg_key'] = list(zip(df['message_id'], df['original_length'], df['joined_length']))\n",
    "\n",
    "# Step 2: Create sets of msg_keys per (client, node)\n",
    "grouped = df.groupby(['client_id', 'node'])['msg_key'].apply(set).reset_index()\n",
    "\n",
    "# Step 3: Pivot to have clients as columns, nodes as rows\n",
    "pivoted = grouped.pivot(index='node', columns='client_id', values='msg_key')\n",
    "\n",
    "# Step 4: Compare all client sets pairwise per node\n",
    "def compare_clients(row):\n",
    "    sets = [s for s in row if isinstance(s, set)]\n",
    "    return all(s == sets[0] for s in sets[1:])\n",
    "\n",
    "pivoted['all_clients_equal'] = pivoted.apply(compare_clients, axis=1)\n",
    "\n",
    "# Display nodes where clients differ\n",
    "inconsistent_nodes = pivoted[~pivoted['all_clients_equal']]\n",
    "print(f\"⚠️ {len(inconsistent_nodes)} nodes where clients saw different message data:\")\n",
    "inconsistent_nodes\n"
   ]
  },
  {
   "cell_type": "code",
   "execution_count": null,
   "id": "3b11638f",
   "metadata": {},
   "outputs": [
    {
     "name": "stdout",
     "output_type": "stream",
     "text": [
      "\n",
      "Between 3df84a97-7358-4202-9721-a445e8fef206 and fdeb2329-64cd-4805-9f62-93b098f50f0c on node 3:\n",
      "  ✅ Shared: 18\n",
      "  ❌ Only in 3df84a97-7358-4202-9721-a445e8fef206: set()\n",
      "  ❌ Only in fdeb2329-64cd-4805-9f62-93b098f50f0c: set()\n"
     ]
    }
   ],
   "source": [
    "# Choose a specific node to inspect (e.g., node 2)\n",
    "node_to_check = 1\n",
    "client_sets = pivoted.loc[node_to_check, pivoted.columns != 'all_clients_equal']\n",
    "\n",
    "# Find pairwise differences\n",
    "clients = client_sets.index.tolist()\n",
    "for i in range(len(clients)):\n",
    "    for j in range(i+1, len(clients)):\n",
    "        c1, c2 = clients[i], clients[j]\n",
    "        only_c1 = client_sets[c1] - client_sets[c2]\n",
    "        only_c2 = client_sets[c2] - client_sets[c1]\n",
    "        print(f\"\\nBetween {c1} and {c2} on node {node_to_check}:\")\n",
    "        print(f\"  ✅ Shared: {len(client_sets[c1] & client_sets[c2])}\")\n",
    "        print(f\"  ❌ Only in {c1}: {only_c1}\")\n",
    "        print(f\"  ❌ Only in {c2}: {only_c2}\")"
   ]
  },
  {
   "cell_type": "code",
   "execution_count": null,
   "id": "e6a16058",
   "metadata": {},
   "outputs": [],
   "source": [
    "# Choose a specific node to inspect (e.g., node 2)\n",
    "node_to_check = 2\n",
    "client_sets = pivoted.loc[node_to_check, pivoted.columns != 'all_clients_equal']\n",
    "\n",
    "# Find pairwise differences\n",
    "clients = client_sets.index.tolist()\n",
    "for i in range(len(clients)):\n",
    "    for j in range(i+1, len(clients)):\n",
    "        c1, c2 = clients[i], clients[j]\n",
    "        only_c1 = client_sets[c1] - client_sets[c2]\n",
    "        only_c2 = client_sets[c2] - client_sets[c1]\n",
    "        print(f\"\\nBetween {c1} and {c2} on node {node_to_check}:\")\n",
    "        print(f\"  ✅ Shared: {len(client_sets[c1] & client_sets[c2])}\")\n",
    "        print(f\"  ❌ Only in {c1}: {only_c1}\")\n",
    "        print(f\"  ❌ Only in {c2}: {only_c2}\")"
   ]
  }
 ],
 "metadata": {
  "kernelspec": {
   "display_name": "Python 3",
   "language": "python",
   "name": "python3"
  },
  "language_info": {
   "codemirror_mode": {
    "name": "ipython",
    "version": 3
   },
   "file_extension": ".py",
   "mimetype": "text/x-python",
   "name": "python",
   "nbconvert_exporter": "python",
   "pygments_lexer": "ipython3",
   "version": "3.13.0"
  }
 },
 "nbformat": 4,
 "nbformat_minor": 5
}
