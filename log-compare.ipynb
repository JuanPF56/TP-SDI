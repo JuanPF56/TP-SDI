{
 "cells": [
  {
   "cell_type": "markdown",
   "id": "73e6ada8",
   "metadata": {},
   "source": [
    "## Dump the join logs first then run the cells, changing 'credits' and 'ratings' accordingly.\n",
    "\n",
    "## How to dump all the logs:\n",
    "\n",
    "Run in the terminal:\n",
    "```bash\n",
    "for i in $(seq 1 5); do docker logs join_credits_$i >& cred$i.log; docker logs join_ratings_$i >& rat$i.log; done\n",
    "```\n",
    "\n",
    "Then run the cells below to read the logs and create the DataFrames."
   ]
  },
  {
   "cell_type": "code",
   "execution_count": 16,
   "id": "436b6e7f",
   "metadata": {},
   "outputs": [
    {
     "name": "stdout",
     "output_type": "stream",
     "text": [
      "Found 5 log files matching pattern 'cred*.log'.\n",
      "Processing file: cred1.log\n",
      "Processing file: cred2.log\n",
      "Processing file: cred3.log\n",
      "Processing file: cred4.log\n",
      "Processing file: cred5.log\n"
     ]
    },
    {
     "data": {
      "application/vnd.microsoft.datawrangler.viewer.v0+json": {
       "columns": [
        {
         "name": "node",
         "rawType": "int64",
         "type": "integer"
        },
        {
         "name": "count",
         "rawType": "int64",
         "type": "integer"
        }
       ],
       "ref": "29bf3e9a-1513-435c-9010-91bfc7c26b29",
       "rows": [
        [
         "2",
         "112"
        ],
        [
         "1",
         "86"
        ],
        [
         "4",
         "48"
        ],
        [
         "3",
         "36"
        ],
        [
         "5",
         "20"
        ]
       ],
       "shape": {
        "columns": 1,
        "rows": 5
       }
      },
      "text/plain": [
       "node\n",
       "2    112\n",
       "1     86\n",
       "4     48\n",
       "3     36\n",
       "5     20\n",
       "Name: count, dtype: int64"
      ]
     },
     "execution_count": 16,
     "metadata": {},
     "output_type": "execute_result"
    }
   ],
   "source": [
    "import re\n",
    "import pandas as pd\n",
    "from pathlib import Path\n",
    "\n",
    "join = 'credits'\n",
    "\n",
    "if join == 'credits':\n",
    "    file_prefix = 'cred'\n",
    "    log = '[Join-Credits]'\n",
    "else:\n",
    "    file_prefix = 'rat'\n",
    "    log = '[Join-Ratings]'\n",
    "\n",
    "\n",
    "# Define the regex to extract the required fields\n",
    "pattern = re.compile(\n",
    "    r'Message ID: (\\d+) .*? for client ([a-f0-9-]+) has joined data of length (\\d+)\\.', re.IGNORECASE\n",
    ")\n",
    "\n",
    "# Function to parse one file and extract relevant data\n",
    "def extract_joined_data(filepath):\n",
    "    data = []\n",
    "    node_match = re.search(rf'{file_prefix}(\\d+)\\.log$', filepath.name)\n",
    "    if not node_match:\n",
    "        print(f\"Skipping file {filepath} as it does not match expected pattern.\")\n",
    "        return data\n",
    "    node = int(node_match.group(1)) if node_match else None\n",
    "\n",
    "    with open(filepath, 'r', encoding='utf-8', errors='ignore') as f:\n",
    "        print(f\"Processing file: {filepath}\")\n",
    "        for line in f:\n",
    "            if log in line:\n",
    "                match = pattern.search(line)\n",
    "                if match:\n",
    "                    message_id = int(match.group(1))\n",
    "                    client_id = match.group(2)\n",
    "                    joined_length = int(match.group(3))\n",
    "\n",
    "                    # Also extract the total original length from earlier in the line\n",
    "                    length_match = re.search(r'length (\\d+)', line)\n",
    "                    original_length = int(length_match.group(1)) if length_match else None\n",
    "\n",
    "                    data.append({\n",
    "                        'node': node,\n",
    "                        'message_id': message_id,\n",
    "                        'client_id': client_id,\n",
    "                        'original_length': original_length,\n",
    "                        'joined_length': joined_length,\n",
    "                    })\n",
    "    return data\n",
    "\n",
    "# Load all relevant log files\n",
    "log_files = list(Path('.').glob(f'{file_prefix}*.log'))\n",
    "\n",
    "print(f\"Found {len(log_files)} log files matching pattern '{file_prefix}*.log'.\")\n",
    "\n",
    "# Extract and combine all the data\n",
    "all_data = []\n",
    "for log_file in log_files:\n",
    "    all_data.extend(extract_joined_data(log_file))\n",
    "\n",
    "# Convert to DataFrame\n",
    "df = pd.DataFrame(all_data)\n",
    "\n",
    "df['node'].value_counts()\n"
   ]
  },
  {
   "cell_type": "code",
   "execution_count": 17,
   "id": "ea0d26c2",
   "metadata": {},
   "outputs": [
    {
     "data": {
      "application/vnd.microsoft.datawrangler.viewer.v0+json": {
       "columns": [
        {
         "name": "index",
         "rawType": "int64",
         "type": "integer"
        },
        {
         "name": "node",
         "rawType": "int64",
         "type": "integer"
        },
        {
         "name": "message_id",
         "rawType": "int64",
         "type": "integer"
        },
        {
         "name": "client_id",
         "rawType": "object",
         "type": "string"
        },
        {
         "name": "original_length",
         "rawType": "int64",
         "type": "integer"
        },
        {
         "name": "joined_length",
         "rawType": "int64",
         "type": "integer"
        }
       ],
       "ref": "b6ec71d2-4610-40b2-b0cf-64a530d2d61b",
       "rows": [
        [
         "0",
         "1",
         "64",
         "56b1abcc-77c4-4b28-9379-b1caacfd0bb5",
         "180",
         "1"
        ],
        [
         "1",
         "1",
         "64",
         "c19ff158-75ab-4c5a-be48-a8cc1b10babe",
         "180",
         "1"
        ],
        [
         "2",
         "1",
         "67",
         "56b1abcc-77c4-4b28-9379-b1caacfd0bb5",
         "159",
         "2"
        ],
        [
         "3",
         "1",
         "67",
         "c19ff158-75ab-4c5a-be48-a8cc1b10babe",
         "159",
         "2"
        ],
        [
         "4",
         "1",
         "74",
         "56b1abcc-77c4-4b28-9379-b1caacfd0bb5",
         "148",
         "1"
        ],
        [
         "5",
         "1",
         "74",
         "c19ff158-75ab-4c5a-be48-a8cc1b10babe",
         "148",
         "1"
        ],
        [
         "6",
         "1",
         "78",
         "56b1abcc-77c4-4b28-9379-b1caacfd0bb5",
         "150",
         "1"
        ],
        [
         "7",
         "1",
         "78",
         "c19ff158-75ab-4c5a-be48-a8cc1b10babe",
         "150",
         "1"
        ],
        [
         "8",
         "1",
         "84",
         "56b1abcc-77c4-4b28-9379-b1caacfd0bb5",
         "208",
         "1"
        ],
        [
         "9",
         "1",
         "84",
         "c19ff158-75ab-4c5a-be48-a8cc1b10babe",
         "208",
         "1"
        ],
        [
         "10",
         "1",
         "85",
         "56b1abcc-77c4-4b28-9379-b1caacfd0bb5",
         "144",
         "1"
        ],
        [
         "11",
         "1",
         "85",
         "c19ff158-75ab-4c5a-be48-a8cc1b10babe",
         "144",
         "1"
        ],
        [
         "12",
         "1",
         "87",
         "56b1abcc-77c4-4b28-9379-b1caacfd0bb5",
         "179",
         "1"
        ],
        [
         "13",
         "1",
         "87",
         "c19ff158-75ab-4c5a-be48-a8cc1b10babe",
         "179",
         "1"
        ],
        [
         "14",
         "1",
         "90",
         "56b1abcc-77c4-4b28-9379-b1caacfd0bb5",
         "176",
         "2"
        ],
        [
         "15",
         "1",
         "90",
         "c19ff158-75ab-4c5a-be48-a8cc1b10babe",
         "176",
         "2"
        ],
        [
         "16",
         "1",
         "91",
         "56b1abcc-77c4-4b28-9379-b1caacfd0bb5",
         "168",
         "1"
        ],
        [
         "17",
         "1",
         "91",
         "c19ff158-75ab-4c5a-be48-a8cc1b10babe",
         "168",
         "1"
        ],
        [
         "18",
         "1",
         "96",
         "56b1abcc-77c4-4b28-9379-b1caacfd0bb5",
         "174",
         "1"
        ],
        [
         "19",
         "1",
         "96",
         "c19ff158-75ab-4c5a-be48-a8cc1b10babe",
         "174",
         "1"
        ],
        [
         "20",
         "1",
         "99",
         "56b1abcc-77c4-4b28-9379-b1caacfd0bb5",
         "177",
         "1"
        ],
        [
         "21",
         "1",
         "99",
         "c19ff158-75ab-4c5a-be48-a8cc1b10babe",
         "177",
         "1"
        ],
        [
         "22",
         "1",
         "100",
         "56b1abcc-77c4-4b28-9379-b1caacfd0bb5",
         "180",
         "2"
        ],
        [
         "23",
         "1",
         "100",
         "c19ff158-75ab-4c5a-be48-a8cc1b10babe",
         "180",
         "2"
        ],
        [
         "24",
         "1",
         "108",
         "56b1abcc-77c4-4b28-9379-b1caacfd0bb5",
         "164",
         "1"
        ],
        [
         "25",
         "1",
         "108",
         "c19ff158-75ab-4c5a-be48-a8cc1b10babe",
         "164",
         "1"
        ],
        [
         "26",
         "1",
         "111",
         "56b1abcc-77c4-4b28-9379-b1caacfd0bb5",
         "156",
         "1"
        ],
        [
         "27",
         "1",
         "111",
         "c19ff158-75ab-4c5a-be48-a8cc1b10babe",
         "156",
         "1"
        ],
        [
         "28",
         "1",
         "114",
         "56b1abcc-77c4-4b28-9379-b1caacfd0bb5",
         "160",
         "1"
        ],
        [
         "29",
         "1",
         "114",
         "c19ff158-75ab-4c5a-be48-a8cc1b10babe",
         "160",
         "1"
        ],
        [
         "30",
         "1",
         "77",
         "56b1abcc-77c4-4b28-9379-b1caacfd0bb5",
         "144",
         "1"
        ],
        [
         "31",
         "1",
         "77",
         "c19ff158-75ab-4c5a-be48-a8cc1b10babe",
         "144",
         "1"
        ],
        [
         "32",
         "1",
         "115",
         "56b1abcc-77c4-4b28-9379-b1caacfd0bb5",
         "155",
         "1"
        ],
        [
         "33",
         "1",
         "89",
         "56b1abcc-77c4-4b28-9379-b1caacfd0bb5",
         "160",
         "1"
        ],
        [
         "34",
         "1",
         "89",
         "c19ff158-75ab-4c5a-be48-a8cc1b10babe",
         "160",
         "1"
        ],
        [
         "35",
         "1",
         "107",
         "56b1abcc-77c4-4b28-9379-b1caacfd0bb5",
         "170",
         "2"
        ],
        [
         "36",
         "1",
         "115",
         "c19ff158-75ab-4c5a-be48-a8cc1b10babe",
         "155",
         "1"
        ],
        [
         "37",
         "1",
         "107",
         "c19ff158-75ab-4c5a-be48-a8cc1b10babe",
         "170",
         "2"
        ],
        [
         "38",
         "1",
         "116",
         "56b1abcc-77c4-4b28-9379-b1caacfd0bb5",
         "152",
         "1"
        ],
        [
         "39",
         "1",
         "116",
         "c19ff158-75ab-4c5a-be48-a8cc1b10babe",
         "152",
         "1"
        ],
        [
         "40",
         "1",
         "117",
         "56b1abcc-77c4-4b28-9379-b1caacfd0bb5",
         "152",
         "3"
        ],
        [
         "41",
         "1",
         "117",
         "c19ff158-75ab-4c5a-be48-a8cc1b10babe",
         "152",
         "3"
        ],
        [
         "42",
         "1",
         "119",
         "56b1abcc-77c4-4b28-9379-b1caacfd0bb5",
         "132",
         "1"
        ],
        [
         "43",
         "1",
         "119",
         "c19ff158-75ab-4c5a-be48-a8cc1b10babe",
         "132",
         "1"
        ],
        [
         "44",
         "1",
         "121",
         "56b1abcc-77c4-4b28-9379-b1caacfd0bb5",
         "103",
         "1"
        ],
        [
         "45",
         "1",
         "121",
         "c19ff158-75ab-4c5a-be48-a8cc1b10babe",
         "103",
         "1"
        ],
        [
         "46",
         "1",
         "122",
         "56b1abcc-77c4-4b28-9379-b1caacfd0bb5",
         "83",
         "2"
        ],
        [
         "47",
         "1",
         "122",
         "c19ff158-75ab-4c5a-be48-a8cc1b10babe",
         "83",
         "2"
        ],
        [
         "48",
         "1",
         "125",
         "56b1abcc-77c4-4b28-9379-b1caacfd0bb5",
         "70",
         "1"
        ],
        [
         "49",
         "1",
         "125",
         "c19ff158-75ab-4c5a-be48-a8cc1b10babe",
         "70",
         "1"
        ]
       ],
       "shape": {
        "columns": 5,
        "rows": 302
       }
      },
      "text/html": [
       "<div>\n",
       "<style scoped>\n",
       "    .dataframe tbody tr th:only-of-type {\n",
       "        vertical-align: middle;\n",
       "    }\n",
       "\n",
       "    .dataframe tbody tr th {\n",
       "        vertical-align: top;\n",
       "    }\n",
       "\n",
       "    .dataframe thead th {\n",
       "        text-align: right;\n",
       "    }\n",
       "</style>\n",
       "<table border=\"1\" class=\"dataframe\">\n",
       "  <thead>\n",
       "    <tr style=\"text-align: right;\">\n",
       "      <th></th>\n",
       "      <th>node</th>\n",
       "      <th>message_id</th>\n",
       "      <th>client_id</th>\n",
       "      <th>original_length</th>\n",
       "      <th>joined_length</th>\n",
       "    </tr>\n",
       "  </thead>\n",
       "  <tbody>\n",
       "    <tr>\n",
       "      <th>0</th>\n",
       "      <td>1</td>\n",
       "      <td>64</td>\n",
       "      <td>56b1abcc-77c4-4b28-9379-b1caacfd0bb5</td>\n",
       "      <td>180</td>\n",
       "      <td>1</td>\n",
       "    </tr>\n",
       "    <tr>\n",
       "      <th>1</th>\n",
       "      <td>1</td>\n",
       "      <td>64</td>\n",
       "      <td>c19ff158-75ab-4c5a-be48-a8cc1b10babe</td>\n",
       "      <td>180</td>\n",
       "      <td>1</td>\n",
       "    </tr>\n",
       "    <tr>\n",
       "      <th>2</th>\n",
       "      <td>1</td>\n",
       "      <td>67</td>\n",
       "      <td>56b1abcc-77c4-4b28-9379-b1caacfd0bb5</td>\n",
       "      <td>159</td>\n",
       "      <td>2</td>\n",
       "    </tr>\n",
       "    <tr>\n",
       "      <th>3</th>\n",
       "      <td>1</td>\n",
       "      <td>67</td>\n",
       "      <td>c19ff158-75ab-4c5a-be48-a8cc1b10babe</td>\n",
       "      <td>159</td>\n",
       "      <td>2</td>\n",
       "    </tr>\n",
       "    <tr>\n",
       "      <th>4</th>\n",
       "      <td>1</td>\n",
       "      <td>74</td>\n",
       "      <td>56b1abcc-77c4-4b28-9379-b1caacfd0bb5</td>\n",
       "      <td>148</td>\n",
       "      <td>1</td>\n",
       "    </tr>\n",
       "    <tr>\n",
       "      <th>...</th>\n",
       "      <td>...</td>\n",
       "      <td>...</td>\n",
       "      <td>...</td>\n",
       "      <td>...</td>\n",
       "      <td>...</td>\n",
       "    </tr>\n",
       "    <tr>\n",
       "      <th>297</th>\n",
       "      <td>5</td>\n",
       "      <td>212</td>\n",
       "      <td>c19ff158-75ab-4c5a-be48-a8cc1b10babe</td>\n",
       "      <td>67</td>\n",
       "      <td>3</td>\n",
       "    </tr>\n",
       "    <tr>\n",
       "      <th>298</th>\n",
       "      <td>5</td>\n",
       "      <td>213</td>\n",
       "      <td>c19ff158-75ab-4c5a-be48-a8cc1b10babe</td>\n",
       "      <td>103</td>\n",
       "      <td>2</td>\n",
       "    </tr>\n",
       "    <tr>\n",
       "      <th>299</th>\n",
       "      <td>5</td>\n",
       "      <td>192</td>\n",
       "      <td>56b1abcc-77c4-4b28-9379-b1caacfd0bb5</td>\n",
       "      <td>17</td>\n",
       "      <td>1</td>\n",
       "    </tr>\n",
       "    <tr>\n",
       "      <th>300</th>\n",
       "      <td>5</td>\n",
       "      <td>192</td>\n",
       "      <td>c19ff158-75ab-4c5a-be48-a8cc1b10babe</td>\n",
       "      <td>17</td>\n",
       "      <td>1</td>\n",
       "    </tr>\n",
       "    <tr>\n",
       "      <th>301</th>\n",
       "      <td>5</td>\n",
       "      <td>209</td>\n",
       "      <td>c19ff158-75ab-4c5a-be48-a8cc1b10babe</td>\n",
       "      <td>79</td>\n",
       "      <td>1</td>\n",
       "    </tr>\n",
       "  </tbody>\n",
       "</table>\n",
       "<p>302 rows × 5 columns</p>\n",
       "</div>"
      ],
      "text/plain": [
       "     node  message_id                             client_id  original_length  \\\n",
       "0       1          64  56b1abcc-77c4-4b28-9379-b1caacfd0bb5              180   \n",
       "1       1          64  c19ff158-75ab-4c5a-be48-a8cc1b10babe              180   \n",
       "2       1          67  56b1abcc-77c4-4b28-9379-b1caacfd0bb5              159   \n",
       "3       1          67  c19ff158-75ab-4c5a-be48-a8cc1b10babe              159   \n",
       "4       1          74  56b1abcc-77c4-4b28-9379-b1caacfd0bb5              148   \n",
       "..    ...         ...                                   ...              ...   \n",
       "297     5         212  c19ff158-75ab-4c5a-be48-a8cc1b10babe               67   \n",
       "298     5         213  c19ff158-75ab-4c5a-be48-a8cc1b10babe              103   \n",
       "299     5         192  56b1abcc-77c4-4b28-9379-b1caacfd0bb5               17   \n",
       "300     5         192  c19ff158-75ab-4c5a-be48-a8cc1b10babe               17   \n",
       "301     5         209  c19ff158-75ab-4c5a-be48-a8cc1b10babe               79   \n",
       "\n",
       "     joined_length  \n",
       "0                1  \n",
       "1                1  \n",
       "2                2  \n",
       "3                2  \n",
       "4                1  \n",
       "..             ...  \n",
       "297              3  \n",
       "298              2  \n",
       "299              1  \n",
       "300              1  \n",
       "301              1  \n",
       "\n",
       "[302 rows x 5 columns]"
      ]
     },
     "execution_count": 17,
     "metadata": {},
     "output_type": "execute_result"
    }
   ],
   "source": [
    "df"
   ]
  },
  {
   "cell_type": "code",
   "execution_count": 18,
   "id": "6163f468",
   "metadata": {},
   "outputs": [
    {
     "name": "stdout",
     "output_type": "stream",
     "text": [
      "⚠️ 0 nodes where clients saw different message data:\n"
     ]
    },
    {
     "data": {
      "application/vnd.microsoft.datawrangler.viewer.v0+json": {
       "columns": [
        {
         "name": "node",
         "rawType": "int64",
         "type": "integer"
        },
        {
         "name": "56b1abcc-77c4-4b28-9379-b1caacfd0bb5",
         "rawType": "object",
         "type": "string"
        },
        {
         "name": "c19ff158-75ab-4c5a-be48-a8cc1b10babe",
         "rawType": "object",
         "type": "string"
        },
        {
         "name": "all_clients_equal",
         "rawType": "bool",
         "type": "boolean"
        }
       ],
       "ref": "8159f9cf-1ddc-4c8a-a0be-8368d5ef0b95",
       "rows": [],
       "shape": {
        "columns": 3,
        "rows": 0
       }
      },
      "text/html": [
       "<div>\n",
       "<style scoped>\n",
       "    .dataframe tbody tr th:only-of-type {\n",
       "        vertical-align: middle;\n",
       "    }\n",
       "\n",
       "    .dataframe tbody tr th {\n",
       "        vertical-align: top;\n",
       "    }\n",
       "\n",
       "    .dataframe thead th {\n",
       "        text-align: right;\n",
       "    }\n",
       "</style>\n",
       "<table border=\"1\" class=\"dataframe\">\n",
       "  <thead>\n",
       "    <tr style=\"text-align: right;\">\n",
       "      <th>client_id</th>\n",
       "      <th>56b1abcc-77c4-4b28-9379-b1caacfd0bb5</th>\n",
       "      <th>c19ff158-75ab-4c5a-be48-a8cc1b10babe</th>\n",
       "      <th>all_clients_equal</th>\n",
       "    </tr>\n",
       "    <tr>\n",
       "      <th>node</th>\n",
       "      <th></th>\n",
       "      <th></th>\n",
       "      <th></th>\n",
       "    </tr>\n",
       "  </thead>\n",
       "  <tbody>\n",
       "  </tbody>\n",
       "</table>\n",
       "</div>"
      ],
      "text/plain": [
       "Empty DataFrame\n",
       "Columns: [56b1abcc-77c4-4b28-9379-b1caacfd0bb5, c19ff158-75ab-4c5a-be48-a8cc1b10babe, all_clients_equal]\n",
       "Index: []"
      ]
     },
     "execution_count": 18,
     "metadata": {},
     "output_type": "execute_result"
    }
   ],
   "source": [
    "import pandas as pd\n",
    "\n",
    "# Assumes `df` exists with: client_id, message_id, original_length, joined_length, node\n",
    "\n",
    "# Step 1: Create a unique key for comparison\n",
    "df['msg_key'] = list(zip(df['message_id'], df['original_length'], df['joined_length']))\n",
    "\n",
    "# Step 2: Create sets of msg_keys per (client, node)\n",
    "grouped = df.groupby(['client_id', 'node'])['msg_key'].apply(set).reset_index()\n",
    "\n",
    "# Step 3: Pivot to have clients as columns, nodes as rows\n",
    "pivoted = grouped.pivot(index='node', columns='client_id', values='msg_key')\n",
    "\n",
    "# Step 4: Compare all client sets pairwise per node\n",
    "def compare_clients(row):\n",
    "    sets = [s for s in row if isinstance(s, set)]\n",
    "    return all(s == sets[0] for s in sets[1:])\n",
    "\n",
    "pivoted['all_clients_equal'] = pivoted.apply(compare_clients, axis=1)\n",
    "\n",
    "# Display nodes where clients differ\n",
    "inconsistent_nodes = pivoted[~pivoted['all_clients_equal']]\n",
    "print(f\"⚠️ {len(inconsistent_nodes)} nodes where clients saw different message data:\")\n",
    "inconsistent_nodes\n"
   ]
  },
  {
   "cell_type": "code",
   "execution_count": null,
   "id": "3b11638f",
   "metadata": {},
   "outputs": [
    {
     "name": "stdout",
     "output_type": "stream",
     "text": [
      "\n",
      "Between 3df84a97-7358-4202-9721-a445e8fef206 and fdeb2329-64cd-4805-9f62-93b098f50f0c on node 3:\n",
      "  ✅ Shared: 18\n",
      "  ❌ Only in 3df84a97-7358-4202-9721-a445e8fef206: set()\n",
      "  ❌ Only in fdeb2329-64cd-4805-9f62-93b098f50f0c: set()\n"
     ]
    }
   ],
   "source": [
    "# Choose a specific node to inspect (e.g., node 2)\n",
    "node_to_check = 1\n",
    "client_sets = pivoted.loc[node_to_check, pivoted.columns != 'all_clients_equal']\n",
    "\n",
    "# Find pairwise differences\n",
    "clients = client_sets.index.tolist()\n",
    "for i in range(len(clients)):\n",
    "    for j in range(i+1, len(clients)):\n",
    "        c1, c2 = clients[i], clients[j]\n",
    "        only_c1 = client_sets[c1] - client_sets[c2]\n",
    "        only_c2 = client_sets[c2] - client_sets[c1]\n",
    "        print(f\"\\nBetween {c1} and {c2} on node {node_to_check}:\")\n",
    "        print(f\"  ✅ Shared: {len(client_sets[c1] & client_sets[c2])}\")\n",
    "        print(f\"  ❌ Only in {c1}: {only_c1}\")\n",
    "        print(f\"  ❌ Only in {c2}: {only_c2}\")"
   ]
  },
  {
   "cell_type": "code",
   "execution_count": null,
   "id": "e6a16058",
   "metadata": {},
   "outputs": [],
   "source": [
    "# Choose a specific node to inspect (e.g., node 2)\n",
    "node_to_check = 2\n",
    "client_sets = pivoted.loc[node_to_check, pivoted.columns != 'all_clients_equal']\n",
    "\n",
    "# Find pairwise differences\n",
    "clients = client_sets.index.tolist()\n",
    "for i in range(len(clients)):\n",
    "    for j in range(i+1, len(clients)):\n",
    "        c1, c2 = clients[i], clients[j]\n",
    "        only_c1 = client_sets[c1] - client_sets[c2]\n",
    "        only_c2 = client_sets[c2] - client_sets[c1]\n",
    "        print(f\"\\nBetween {c1} and {c2} on node {node_to_check}:\")\n",
    "        print(f\"  ✅ Shared: {len(client_sets[c1] & client_sets[c2])}\")\n",
    "        print(f\"  ❌ Only in {c1}: {only_c1}\")\n",
    "        print(f\"  ❌ Only in {c2}: {only_c2}\")"
   ]
  }
 ],
 "metadata": {
  "kernelspec": {
   "display_name": "Python 3",
   "language": "python",
   "name": "python3"
  },
  "language_info": {
   "codemirror_mode": {
    "name": "ipython",
    "version": 3
   },
   "file_extension": ".py",
   "mimetype": "text/x-python",
   "name": "python",
   "nbconvert_exporter": "python",
   "pygments_lexer": "ipython3",
   "version": "3.13.0"
  }
 },
 "nbformat": 4,
 "nbformat_minor": 5
}
